{
 "cells": [
  {
   "cell_type": "markdown",
   "id": "a6d158f2-93f7-47a4-b1d3-58a7c596a710",
   "metadata": {},
   "source": [
    "1.Demonstrate Multiple File Operations in Python"
   ]
  },
  {
   "cell_type": "code",
   "execution_count": 6,
   "id": "cf59c674-8f52-4397-a627-3f62d4445052",
   "metadata": {},
   "outputs": [
    {
     "name": "stdout",
     "output_type": "stream",
     "text": [
      "File content:\n",
      " hello, myself mayuri patil.\n",
      "i am a student of tyco.\n",
      "\n",
      "File deleted successfully.\n"
     ]
    }
   ],
   "source": [
    "import os\n",
    "\n",
    "# Create and write to a file\n",
    "with open(\"intro.txt\", \"w\") as file:\n",
    "    file.write(\"hello, myself mayuri patil.\\n\")\n",
    "    file.write(\"i am a student of tyco.\\n\")\n",
    "\n",
    "# Read the file\n",
    "with open(\"intro.txt\", \"r\") as file:\n",
    "    content = file.read()\n",
    "    print(\"File content:\\n\", content)\n",
    "\n",
    "# Append to the file\n",
    "with open(\"intro.txt\", \"a\") as file:\n",
    "    file.write(\"This line is appended.\\n\")\n",
    "\n",
    "# Delete the file\n",
    "os.remove(\"intro.txt\")\n",
    "print(\"File deleted successfully.\")\n"
   ]
  },
  {
   "cell_type": "markdown",
   "id": "bf9bfbe4-5226-435e-bea6-14261b9cfe70",
   "metadata": {},
   "source": [
    "2. Write code using multiple operators: Bitwise, Assignment, etc.\n"
   ]
  },
  {
   "cell_type": "code",
   "execution_count": 8,
   "id": "2346fb26-a75f-4274-9ef2-48ff71564186",
   "metadata": {},
   "outputs": [
    {
     "name": "stdout",
     "output_type": "stream",
     "text": [
      "a += b = 600\n",
      "b *= 2 = 200\n",
      "x + y = 1100\n",
      "x % y = 200\n",
      "m & n = 8\n",
      "m | n = 892\n",
      "p < q = True\n",
      "p == q = False\n",
      "a and b = False\n",
      "a or b = True\n"
     ]
    }
   ],
   "source": [
    "# --------------------------\n",
    "# 1. Assignment Operators\n",
    "# --------------------------\n",
    "a = 500\n",
    "b = 100\n",
    "a += b  # a = a + b\n",
    "print(\"a += b =\", a)\n",
    "\n",
    "b *= 2  # b = b * 2\n",
    "print(\"b *= 2 =\", b)\n",
    "\n",
    "\n",
    "# --------------------------\n",
    "# 2. Arithmetic Operators\n",
    "# --------------------------\n",
    "x = 800\n",
    "y = 300\n",
    "\n",
    "print(\"x + y =\", x + y)   # Addition\n",
    "print(\"x % y =\", x % y)   # Modulus\n",
    "\n",
    "\n",
    "# --------------------------\n",
    "# 3. Bitwise Operators\n",
    "# --------------------------\n",
    "m = 600   # 110 in binary\n",
    "n = 300   # 011 in binary\n",
    "\n",
    "print(\"m & n =\", m & n)   # Bitwise AND\n",
    "print(\"m | n =\", m | n)   # Bitwise OR\n",
    "\n",
    "\n",
    "# --------------------------\n",
    "# 4. Comparison Operators\n",
    "# --------------------------\n",
    "p = 700\n",
    "q = 900\n",
    "\n",
    "print(\"p < q =\", p < q)     # Less than\n",
    "print(\"p == q =\", p == q)   # Equal to\n",
    "\n",
    "\n",
    "# --------------------------\n",
    "# 5. Logical Operators\n",
    "# --------------------------\n",
    "a = True\n",
    "b = False\n",
    "\n",
    "print(\"a and b =\", a and b)   # Logical AND\n",
    "print(\"a or b =\", a or b)     # Logical OR\n"
   ]
  },
  {
   "cell_type": "markdown",
   "id": "88afcae3-c7c6-4db8-9460-25545ed8d9a4",
   "metadata": {},
   "source": [
    "Demonstrate multiple string operations by applying several functions\n"
   ]
  },
  {
   "cell_type": "code",
   "execution_count": 9,
   "id": "a0b1a5c3-e21c-423f-a211-672e1e3b0242",
   "metadata": {},
   "outputs": [
    {
     "name": "stdout",
     "output_type": "stream",
     "text": [
      "MAYURI PATIL\n",
      "12\n",
      "Mayuri patil\n",
      "False\n"
     ]
    }
   ],
   "source": [
    "name = \"mayuri patil\"\n",
    "\n",
    "# 1. Convert to uppercase\n",
    "print(name.upper())      # Output: MAYURI\n",
    "\n",
    "# 2. Find length of the string\n",
    "print(len(name))         # Output: 6\n",
    "\n",
    "# 3. Replace a letter\n",
    "print(name.replace(\"m\", \"M\"))  # Output: Mayuri\n",
    "\n",
    "# 4. Check if string is alphabet only\n",
    "print(name.isalpha())    # Output: True\n"
   ]
  },
  {
   "cell_type": "code",
   "execution_count": null,
   "id": "94abc519-2a8d-44ff-85b1-4f8f96a2972a",
   "metadata": {},
   "outputs": [],
   "source": []
  }
 ],
 "metadata": {
  "kernelspec": {
   "display_name": "Python 3 (ipykernel)",
   "language": "python",
   "name": "python3"
  },
  "language_info": {
   "codemirror_mode": {
    "name": "ipython",
    "version": 3
   },
   "file_extension": ".py",
   "mimetype": "text/x-python",
   "name": "python",
   "nbconvert_exporter": "python",
   "pygments_lexer": "ipython3",
   "version": "3.13.5"
  }
 },
 "nbformat": 4,
 "nbformat_minor": 5
}
