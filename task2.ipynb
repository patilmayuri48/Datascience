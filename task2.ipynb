{
 "cells": [
  {
   "cell_type": "markdown",
   "id": "f16ca332-04f4-40db-b619-2c490a467446",
   "metadata": {},
   "source": [
    "1. Multiple Operations on a List\n"
   ]
  },
  {
   "cell_type": "code",
   "execution_count": 3,
   "id": "363f59dd-b6a2-458a-9065-346be04760e8",
   "metadata": {},
   "outputs": [
    {
     "name": "stdout",
     "output_type": "stream",
     "text": [
      "After append: ['mayuri', 'Pallavi', 'Neelam', 'sakshi', 'we 4']\n",
      "After remove: ['mayuri', 'Neelam', 'sakshi', 'we 4']\n",
      "Count of Neelam: 1\n",
      "Sorted list: ['Neelam', 'mayuri', 'sakshi', 'we 4']\n"
     ]
    }
   ],
   "source": [
    "# Creating a list\n",
    "friends = [\"mayuri\", \"Pallavi\", \"Neelam\", \"sakshi\"]\n",
    "\n",
    "# Append an item\n",
    "friends.append(\"we 4\")\n",
    "print(\"After append:\", friends)\n",
    "\n",
    "# Remove an item\n",
    "friends.remove(\"Pallavi\")\n",
    "print(\"After remove:\", friends)\n",
    "\n",
    "# Count occurrences\n",
    "print(\"Count of Neelam:\", friends.count(\"Neelam\"))\n",
    "\n",
    "# Sort the list\n",
    "friends.sort()\n",
    "print(\"Sorted list:\", friends)\n",
    "\n"
   ]
  },
  {
   "cell_type": "markdown",
   "id": "72d16563-59e4-4251-b45f-4d6744ed86bd",
   "metadata": {},
   "source": [
    "2. Multiple Operations on a Tuple"
   ]
  },
  {
   "cell_type": "code",
   "execution_count": 4,
   "id": "095352be-c536-4bba-97b1-81f665d64e15",
   "metadata": {},
   "outputs": [
    {
     "name": "stdout",
     "output_type": "stream",
     "text": [
      "Original tuple: ('mayuri', 'Pallavi', 'Neelam', 'sakshi')\n",
      "After append: ['mayuri', 'Pallavi', 'Neelam', 'sakshi', 'we 4']\n",
      "After remove: ['Pallavi', 'Neelam', 'sakshi', 'we 4']\n",
      "Count of Neelam: 1\n"
     ]
    }
   ],
   "source": [
    "# Creating a tuple\n",
    "friends_tuple = (\"mayuri\", \"Pallavi\", \"Neelam\", \"sakshi\")\n",
    "print(\"Original tuple:\", friends_tuple)\n",
    "\n",
    "# Convert to list to perform operations like append and remove\n",
    "friends_list = list(friends_tuple)\n",
    "\n",
    "# Append an item\n",
    "friends_list.append(\"we 4\")\n",
    "print(\"After append:\", friends_list)\n",
    "\n",
    "# Remove an item\n",
    "friends_list.remove(\"mayuri\")\n",
    "print(\"After remove:\", friends_list)\n",
    "\n",
    "# Count occurrences\n",
    "print(\"Count of Neelam:\", friends_list.count(\"sakshi\"))\n",
    "\n"
   ]
  },
  {
   "cell_type": "markdown",
   "id": "7af0b050-fe27-4599-a987-c2a205a7253f",
   "metadata": {},
   "source": [
    "Multiple Operations on a Set\n"
   ]
  },
  {
   "cell_type": "code",
   "execution_count": 5,
   "id": "50a83b76-43b1-4d71-865d-c70bb4e19a6c",
   "metadata": {},
   "outputs": [
    {
     "name": "stdout",
     "output_type": "stream",
     "text": [
      "After adding: {'mayuri', 'sakshi', 'Pallavi', 'Neelam'}\n",
      "After removing: {'mayuri', 'sakshi', 'Neelam'}\n",
      "Is Neelam in set? True\n",
      "Total friends: 3\n"
     ]
    }
   ],
   "source": [
    "# Creating a set\n",
    "friends_set = {\"mayuri\", \"Pallavi\", \"Neelam\"}\n",
    "\n",
    "# Add an item\n",
    "friends_set.add(\"sakshi\")\n",
    "print(\"After adding:\", friends_set)\n",
    "\n",
    "# Remove an item\n",
    "friends_set.remove(\"Pallavi\")\n",
    "print(\"After removing:\", friends_set)\n",
    "\n",
    "# Check if an item exists\n",
    "print(\"Is Neelam in set?\", \"Neelam\" in friends_set)\n",
    "\n",
    "# Find total number of elements\n",
    "print(\"Total friends:\", len(friends_set))\n"
   ]
  },
  {
   "cell_type": "code",
   "execution_count": null,
   "id": "1cc2fd2b-71fa-490c-b2ab-0f38efa3a8cf",
   "metadata": {},
   "outputs": [],
   "source": []
  },
  {
   "cell_type": "code",
   "execution_count": null,
   "id": "6960125e-8edc-45b2-894c-bccee713831e",
   "metadata": {},
   "outputs": [],
   "source": []
  }
 ],
 "metadata": {
  "kernelspec": {
   "display_name": "Python 3 (ipykernel)",
   "language": "python",
   "name": "python3"
  },
  "language_info": {
   "codemirror_mode": {
    "name": "ipython",
    "version": 3
   },
   "file_extension": ".py",
   "mimetype": "text/x-python",
   "name": "python",
   "nbconvert_exporter": "python",
   "pygments_lexer": "ipython3",
   "version": "3.13.5"
  }
 },
 "nbformat": 4,
 "nbformat_minor": 5
}
