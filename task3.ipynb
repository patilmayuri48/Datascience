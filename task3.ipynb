{
 "cells": [
  {
   "cell_type": "markdown",
   "id": "7b972a9f-4b63-489c-9286-1ec446e71e17",
   "metadata": {},
   "source": [
    "3.Perform Multiple Operations Using NumPy(minim 15)\n"
   ]
  },
  {
   "cell_type": "code",
   "execution_count": 3,
   "id": "1245b8e2-1bd8-4083-a3a9-85d57ea99b2a",
   "metadata": {},
   "outputs": [],
   "source": [
    "import numpy as np\n"
   ]
  },
  {
   "cell_type": "code",
   "execution_count": 4,
   "id": "e0f1bb16-860e-4e62-bdeb-f478c18ccf3d",
   "metadata": {},
   "outputs": [],
   "source": [
    "arr1 = np.array([1, 2, 3, 4, 5])\n",
    "arr2 = np.array([10, 20, 30, 40, 50])\n",
    "matrix = np.array([[1, 2], [3, 4]])\n"
   ]
  },
  {
   "cell_type": "code",
   "execution_count": 5,
   "id": "bba66b26-1a12-4598-86aa-c52b67451d1c",
   "metadata": {},
   "outputs": [
    {
     "name": "stdout",
     "output_type": "stream",
     "text": [
      "Addition: [11 22 33 44 55]\n"
     ]
    }
   ],
   "source": [
    "# 1. Addition\n",
    "print(\"Addition:\", arr1 + arr2)"
   ]
  },
  {
   "cell_type": "code",
   "execution_count": 6,
   "id": "a3b74ecd-ae21-4abd-ba07-07e8e0e071f9",
   "metadata": {},
   "outputs": [
    {
     "name": "stdout",
     "output_type": "stream",
     "text": [
      "Subtraction: [ 9 18 27 36 45]\n"
     ]
    }
   ],
   "source": [
    "# 2. Subtraction\n",
    "print(\"Subtraction:\", arr2 - arr1)"
   ]
  },
  {
   "cell_type": "code",
   "execution_count": 10,
   "id": "b05c1da7-fa57-482c-b0ef-414ab61ce890",
   "metadata": {},
   "outputs": [
    {
     "name": "stdout",
     "output_type": "stream",
     "text": [
      "Multiplication: [ 10  40  90 160 250]\n"
     ]
    }
   ],
   "source": [
    "# 3. Multiplication\n",
    "print(\"Multiplication:\", arr1 * arr2)"
   ]
  },
  {
   "cell_type": "code",
   "execution_count": 8,
   "id": "50d0f88a-2b6e-4268-8c21-fd452228626e",
   "metadata": {},
   "outputs": [
    {
     "name": "stdout",
     "output_type": "stream",
     "text": [
      "Division: [10. 10. 10. 10. 10.]\n"
     ]
    }
   ],
   "source": [
    "# 4. Division\n",
    "print(\"Division:\", arr2 / arr1)"
   ]
  },
  {
   "cell_type": "code",
   "execution_count": 9,
   "id": "2a897854-6b7a-4801-a815-adf71ebd5f35",
   "metadata": {},
   "outputs": [
    {
     "name": "stdout",
     "output_type": "stream",
     "text": [
      "Modulus: [0 0 0 0 0]\n"
     ]
    }
   ],
   "source": [
    "# 5. Modulus\n",
    "print(\"Modulus:\", arr2 % arr1)"
   ]
  },
  {
   "cell_type": "code",
   "execution_count": 11,
   "id": "dcfe5049-8712-45fe-bdc1-274e1ffab8c3",
   "metadata": {},
   "outputs": [
    {
     "name": "stdout",
     "output_type": "stream",
     "text": [
      "Power: [ 1  4  9 16 25]\n"
     ]
    }
   ],
   "source": [
    "# 6. Power\n",
    "print(\"Power:\", arr1 ** 2)"
   ]
  },
  {
   "cell_type": "code",
   "execution_count": 12,
   "id": "cc9faf5d-7d7d-4e4c-ac21-e488baa2b8a0",
   "metadata": {},
   "outputs": [
    {
     "name": "stdout",
     "output_type": "stream",
     "text": [
      "Mean: 3.0\n"
     ]
    }
   ],
   "source": [
    "# 7. Mean\n",
    "print(\"Mean:\", np.mean(arr1))"
   ]
  },
  {
   "cell_type": "code",
   "execution_count": 13,
   "id": "e159c77c-1f1f-482b-ad2b-1328752c6854",
   "metadata": {},
   "outputs": [
    {
     "name": "stdout",
     "output_type": "stream",
     "text": [
      "Median: 30.0\n"
     ]
    }
   ],
   "source": [
    "# 8. Median\n",
    "print(\"Median:\", np.median(arr2))"
   ]
  },
  {
   "cell_type": "code",
   "execution_count": 14,
   "id": "a37992f7-3456-4867-8f5c-26081f0d7146",
   "metadata": {},
   "outputs": [
    {
     "name": "stdout",
     "output_type": "stream",
     "text": [
      "Standard Deviation: 14.142135623730951\n"
     ]
    }
   ],
   "source": [
    "# 9. Standard Deviation\n",
    "print(\"Standard Deviation:\", np.std(arr2))"
   ]
  },
  {
   "cell_type": "code",
   "execution_count": 15,
   "id": "86a58255-161a-43ed-8d1d-2c5d4a5fb3c7",
   "metadata": {},
   "outputs": [
    {
     "name": "stdout",
     "output_type": "stream",
     "text": [
      "Max value in arr1: 5\n"
     ]
    }
   ],
   "source": [
    "# 10. Max\n",
    "print(\"Max value in arr1:\", np.max(arr1))"
   ]
  },
  {
   "cell_type": "code",
   "execution_count": 16,
   "id": "9052551c-a37b-4610-bdfe-39985533e285",
   "metadata": {},
   "outputs": [
    {
     "name": "stdout",
     "output_type": "stream",
     "text": [
      "Min value in arr2: 10\n"
     ]
    }
   ],
   "source": [
    "# 11. Min\n",
    "print(\"Min value in arr2:\", np.min(arr2))"
   ]
  },
  {
   "cell_type": "code",
   "execution_count": 17,
   "id": "7479664a-894f-4676-aad9-f0760acf16e9",
   "metadata": {},
   "outputs": [
    {
     "name": "stdout",
     "output_type": "stream",
     "text": [
      "Dot Product: 550\n"
     ]
    }
   ],
   "source": [
    "# 12. Dot Product\n",
    "print(\"Dot Product:\", np.dot(arr1, arr2))"
   ]
  },
  {
   "cell_type": "code",
   "execution_count": 18,
   "id": "7cd5ae87-b4b0-4b9f-8cd5-d057a45650c5",
   "metadata": {},
   "outputs": [
    {
     "name": "stdout",
     "output_type": "stream",
     "text": [
      "Transpose of matrix:\n",
      " [[1 3]\n",
      " [2 4]]\n"
     ]
    }
   ],
   "source": [
    "# 13. Transpose\n",
    "print(\"Transpose of matrix:\\n\", np.transpose(matrix))"
   ]
  },
  {
   "cell_type": "code",
   "execution_count": 19,
   "id": "2b4995f7-eb48-4340-ace7-44edea02dde2",
   "metadata": {},
   "outputs": [
    {
     "name": "stdout",
     "output_type": "stream",
     "text": [
      "Reshaped arr1:\n",
      " [[1]\n",
      " [2]\n",
      " [3]\n",
      " [4]\n",
      " [5]]\n"
     ]
    }
   ],
   "source": [
    "# 14. Reshape\n",
    "reshaped = np.reshape(arr1, (5, 1))\n",
    "print(\"Reshaped arr1:\\n\", reshaped)"
   ]
  },
  {
   "cell_type": "code",
   "execution_count": 20,
   "id": "d7714d6e-fca8-4862-9b93-a5f2205e9295",
   "metadata": {},
   "outputs": [
    {
     "name": "stdout",
     "output_type": "stream",
     "text": [
      "Concatenated arrays: [ 1  2  3  4  5 10 20 30 40 50]\n"
     ]
    }
   ],
   "source": [
    "# 15. Concatenation\n",
    "print(\"Concatenated arrays:\", np.concatenate((arr1, arr2)))"
   ]
  }
 ],
 "metadata": {
  "kernelspec": {
   "display_name": "Python 3 (ipykernel)",
   "language": "python",
   "name": "python3"
  },
  "language_info": {
   "codemirror_mode": {
    "name": "ipython",
    "version": 3
   },
   "file_extension": ".py",
   "mimetype": "text/x-python",
   "name": "python",
   "nbconvert_exporter": "python",
   "pygments_lexer": "ipython3",
   "version": "3.13.5"
  }
 },
 "nbformat": 4,
 "nbformat_minor": 5
}
